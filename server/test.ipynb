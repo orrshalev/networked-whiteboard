{
 "cells": [
  {
   "cell_type": "code",
   "execution_count": 1,
   "metadata": {},
   "outputs": [
    {
     "name": "stdout",
     "output_type": "stream",
     "text": [
      "test\n",
      "tesst\n",
      "test2\n",
      "tsest2\n"
     ]
    }
   ],
   "source": [
    "class User:\n",
    "    username: str = None\n",
    "    roomname: str = None\n",
    "\n",
    "user = User()\n",
    "user.username = \"test\"\n",
    "user.roomname = \"tesst\"\n",
    "user2 = User()\n",
    "user2.username = \"test2\"\n",
    "user2. roomname = \"tsest2\"\n",
    "print(user.username)\n",
    "print(user.roomname)\n",
    "print(user2.username)\n",
    "print(user2.roomname)"
   ]
  },
  {
   "cell_type": "code",
   "execution_count": 2,
   "metadata": {},
   "outputs": [
    {
     "name": "stdout",
     "output_type": "stream",
     "text": [
      "0\n"
     ]
    }
   ],
   "source": [
    "for i in range(1):\n",
    "    print(i)"
   ]
  },
  {
   "cell_type": "code",
   "execution_count": 4,
   "metadata": {},
   "outputs": [
    {
     "data": {
      "text/plain": [
       "[b'PAINT-something-test\\r', b'']"
      ]
     },
     "execution_count": 4,
     "metadata": {},
     "output_type": "execute_result"
    }
   ],
   "source": [
    "data = b\"PAINT-something-test\\r\\n\"\n",
    "data.split(b\"\\n\")"
   ]
  }
 ],
 "metadata": {
  "kernelspec": {
   "display_name": "Python 3",
   "language": "python",
   "name": "python3"
  },
  "language_info": {
   "codemirror_mode": {
    "name": "ipython",
    "version": 3
   },
   "file_extension": ".py",
   "mimetype": "text/x-python",
   "name": "python",
   "nbconvert_exporter": "python",
   "pygments_lexer": "ipython3",
   "version": "3.11.2"
  },
  "orig_nbformat": 4
 },
 "nbformat": 4,
 "nbformat_minor": 2
}
